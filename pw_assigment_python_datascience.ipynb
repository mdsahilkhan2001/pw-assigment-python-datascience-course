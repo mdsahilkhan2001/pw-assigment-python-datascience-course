{
  "nbformat": 4,
  "nbformat_minor": 0,
  "metadata": {
    "colab": {
      "provenance": [],
      "authorship_tag": "ABX9TyMu93uaaHmLWx8n565vQSrk",
      "include_colab_link": true
    },
    "kernelspec": {
      "name": "python3",
      "display_name": "Python 3"
    },
    "language_info": {
      "name": "python"
    }
  },
  "cells": [
    {
      "cell_type": "markdown",
      "metadata": {
        "id": "view-in-github",
        "colab_type": "text"
      },
      "source": [
        "<a href=\"https://colab.research.google.com/github/mdsahilkhan2001/pw-assigment-python-datascience-course/blob/main/pw_assigment_python_datascience.ipynb\" target=\"_parent\"><img src=\"https://colab.research.google.com/assets/colab-badge.svg\" alt=\"Open In Colab\"/></a>"
      ]
    },
    {
      "cell_type": "markdown",
      "source": [
        "**Covert a integer to a floatig-poit number.\n",
        "Answer: To convert an integer to a floating-point number in programming, you typically use a casting or conversion function provided by the language. Here are examples in a few common programming languages:**"
      ],
      "metadata": {
        "id": "iulnNDRieHf2"
      }
    },
    {
      "cell_type": "code",
      "source": [
        "\n",
        "integer_value = 42\n",
        "floating_point_value = float(integer_value)\n",
        "print(floating_point_value)\n"
      ],
      "metadata": {
        "colab": {
          "base_uri": "https://localhost:8080/"
        },
        "id": "U5IpWbtDeLFk",
        "outputId": "dc54f818-1ca3-4a7e-a5cd-bbfd3a359da7"
      },
      "execution_count": 1,
      "outputs": [
        {
          "output_type": "stream",
          "name": "stdout",
          "text": [
            "42.0\n"
          ]
        }
      ]
    },
    {
      "cell_type": "markdown",
      "source": [
        "**2.Convert a float to an integer**"
      ],
      "metadata": {
        "id": "_OQItEM3e2IL"
      }
    },
    {
      "cell_type": "code",
      "source": [
        "floating_point_value = 42.7\n",
        "integer_value = int(floating_point_value)\n",
        "print(integer_value)\n"
      ],
      "metadata": {
        "colab": {
          "base_uri": "https://localhost:8080/"
        },
        "id": "b1m7pbPAe1mL",
        "outputId": "7c6441b9-5e53-404b-f211-8fec4cc62bb3"
      },
      "execution_count": 2,
      "outputs": [
        {
          "output_type": "stream",
          "name": "stdout",
          "text": [
            "42\n"
          ]
        }
      ]
    },
    {
      "cell_type": "code",
      "source": [
        "floating_point_value = 99.99\n",
        "integer_value = int(floating_point_value)\n",
        "print(integer_value)"
      ],
      "metadata": {
        "colab": {
          "base_uri": "https://localhost:8080/"
        },
        "id": "NKqmQ8k1fDc5",
        "outputId": "4be1c0c2-27f0-4100-eb99-db74c4bedb3b"
      },
      "execution_count": 3,
      "outputs": [
        {
          "output_type": "stream",
          "name": "stdout",
          "text": [
            "99\n"
          ]
        }
      ]
    },
    {
      "cell_type": "markdown",
      "source": [
        " **3.convert integer to a string**"
      ],
      "metadata": {
        "id": "jjlcvSfzf-6b"
      }
    },
    {
      "cell_type": "code",
      "source": [
        "integer_value = 123\n",
        "string_value = str(integer_value)\n",
        "print(string_value)\n",
        "print(type(string_value))\n"
      ],
      "metadata": {
        "colab": {
          "base_uri": "https://localhost:8080/"
        },
        "id": "lMzxKZnyfL03",
        "outputId": "4ffbc0f4-448e-4b6c-aafe-b6b595035f52"
      },
      "execution_count": 4,
      "outputs": [
        {
          "output_type": "stream",
          "name": "stdout",
          "text": [
            "123\n",
            "<class 'str'>\n"
          ]
        }
      ]
    },
    {
      "cell_type": "markdown",
      "source": [
        "**3. convert list to a tuple**"
      ],
      "metadata": {
        "id": "UTaVydPSgSh2"
      }
    },
    {
      "cell_type": "code",
      "source": [
        "my_list = [1, 2, 3, 4, 5]\n",
        "my_tuple = tuple(my_list)\n",
        "print(my_tuple)        # Output: (1, 2, 3, 4, 5)\n",
        "print(type(my_tuple))  # Output: <class 'tuple'>\n"
      ],
      "metadata": {
        "colab": {
          "base_uri": "https://localhost:8080/"
        },
        "id": "9Mk15qtHgFtb",
        "outputId": "02c06c27-d911-46f0-9f95-959f8d51e621"
      },
      "execution_count": 5,
      "outputs": [
        {
          "output_type": "stream",
          "name": "stdout",
          "text": [
            "(1, 2, 3, 4, 5)\n",
            "<class 'tuple'>\n"
          ]
        }
      ]
    },
    {
      "cell_type": "markdown",
      "source": [
        "4.convert tuple to a list"
      ],
      "metadata": {
        "id": "JdTWURqagn-g"
      }
    },
    {
      "cell_type": "code",
      "source": [
        "my_tuple = (1, 2, 3, 4, 5)\n",
        "my_list = list(my_tuple)\n",
        "print(my_list)\n",
        "print(type(my_list))\n"
      ],
      "metadata": {
        "colab": {
          "base_uri": "https://localhost:8080/"
        },
        "id": "7oaw_Sf7glzQ",
        "outputId": "308f5860-a24f-40ce-c5dc-feb0a5049c62"
      },
      "execution_count": 6,
      "outputs": [
        {
          "output_type": "stream",
          "name": "stdout",
          "text": [
            "[1, 2, 3, 4, 5]\n",
            "<class 'list'>\n"
          ]
        }
      ]
    },
    {
      "cell_type": "markdown",
      "source": [
        "**convert a decimal number to its binary**"
      ],
      "metadata": {
        "id": "GjWcZ8VQhFM_"
      }
    },
    {
      "cell_type": "code",
      "source": [
        " decimal_number = 42\n",
        "binary_representation = bin(decimal_number)\n",
        "print(binary_representation)\n"
      ],
      "metadata": {
        "colab": {
          "base_uri": "https://localhost:8080/"
        },
        "id": "gxj2AflchDQz",
        "outputId": "4afaec75-acaf-4437-8c43-dd3a0cf1ffb2"
      },
      "execution_count": 7,
      "outputs": [
        {
          "output_type": "stream",
          "name": "stdout",
          "text": [
            "0b101010\n"
          ]
        }
      ]
    },
    {
      "cell_type": "markdown",
      "source": [
        "**convert a non-zero number to a boolean**"
      ],
      "metadata": {
        "id": "WhqQXYE0hzql"
      }
    },
    {
      "cell_type": "code",
      "source": [
        "number = 42\n",
        "boolean_value = bool(number)\n",
        "print(boolean_value)\n"
      ],
      "metadata": {
        "colab": {
          "base_uri": "https://localhost:8080/"
        },
        "id": "Uiik_pn4gxjJ",
        "outputId": "9d712fee-ccfc-4b71-9784-8f776068fe55"
      },
      "execution_count": 9,
      "outputs": [
        {
          "output_type": "stream",
          "name": "stdout",
          "text": [
            "True\n"
          ]
        }
      ]
    },
    {
      "cell_type": "code",
      "source": [
        "zero_number = 0\n",
        "boolean_value = bool(zero_number)\n",
        "print(boolean_value)\n"
      ],
      "metadata": {
        "colab": {
          "base_uri": "https://localhost:8080/"
        },
        "id": "8f9YAMtTh88P",
        "outputId": "1f501253-6364-4689-dd9f-f32f7b366efd"
      },
      "execution_count": 8,
      "outputs": [
        {
          "output_type": "stream",
          "name": "stdout",
          "text": [
            "False\n"
          ]
        }
      ]
    }
  ]
}